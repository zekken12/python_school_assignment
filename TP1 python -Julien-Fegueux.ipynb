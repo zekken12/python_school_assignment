{
 "cells": [
  {
   "cell_type": "markdown",
   "id": "e9fbb8a2",
   "metadata": {},
   "source": [
    "# YOUR Name:Julien FEGUEUX"
   ]
  },
  {
   "cell_type": "markdown",
   "id": "6405241d",
   "metadata": {},
   "source": [
    "# Exercise 1: "
   ]
  },
  {
   "cell_type": "markdown",
   "id": "e34431d9",
   "metadata": {},
   "source": [
    "* Define a list with 11, 22, 33, 44, 55\n",
    "* Display using a loop the product of each element by itself preceded in the form \"x + x = y\"\n",
    "* Store products in a new list"
   ]
  },
  {
   "cell_type": "code",
   "execution_count": 14,
   "id": "3e4b0666",
   "metadata": {},
   "outputs": [
    {
     "name": "stdout",
     "output_type": "stream",
     "text": [
      "11 * 11 = 121\n",
      "22 * 22 = 484\n",
      "33 * 33 = 1089\n",
      "44 * 44 = 1936\n",
      "55 * 55 = 3025\n",
      "[121, 484, 1089, 1936, 3025]\n"
     ]
    }
   ],
   "source": [
    "# Define the list with numbers\n",
    "number_list = [11, 22, 33, 44, 55]\n",
    "\n",
    "# Initialize an empty list to store the products\n",
    "products = []\n",
    "\n",
    "# Loop through each element in the list\n",
    "for num in number_list:\n",
    "    product = num * num\n",
    "    products.append(product)\n",
    "    print(f\"{num} * {num} = {product}\")\n",
    "    \n",
    "# Print the products list\n",
    "print(products)"
   ]
  },
  {
   "cell_type": "markdown",
   "id": "4c438a31",
   "metadata": {},
   "source": [
    "# Exercise 2: "
   ]
  },
  {
   "cell_type": "markdown",
   "id": "7ee779ec",
   "metadata": {},
   "source": [
    "* 1- Define a limit my_list with values 4 and 5.2\n",
    "* 2- Display my_list\n",
    "* 3- Add the value 8 in the last position of to my_list\n",
    "* 4- Define a my_str variable with the str 'toto'\n",
    "* 5- Add the my_str variable in the last position of to my_list\n",
    "* 6- Display the list\n",
    "* 7- Define a list new_list with 1 and 4\n",
    "* 8- Add the new_list variable in the last position of to my_list\n",
    "* 9- Assign the second value of my_list in the variable my_variable_2\n",
    "* 10- Display the variable my_variable_2  \n",
    "* 11- Assign the last value of my_list in the variable my_last_variable\n",
    "* 12- Display the variable my_last_variable"
   ]
  },
  {
   "cell_type": "code",
   "execution_count": 15,
   "id": "a8e43c30",
   "metadata": {},
   "outputs": [
    {
     "name": "stdout",
     "output_type": "stream",
     "text": [
      "[4, 5.2]\n",
      "[4, 5.2, 8, 'toto']\n",
      "5.2\n",
      "[1, 4]\n"
     ]
    }
   ],
   "source": [
    "# Define a limit my_list with values 4 and 5.2\n",
    "my_list = [4, 5.2]\n",
    "\n",
    "# Display my_list\n",
    "print(my_list)\n",
    "\n",
    "# Add the value 8 in the last position of to my_list\n",
    "my_list.append(8)\n",
    "\n",
    "# Define a my_str variable with the str 'toto'\n",
    "my_str = 'toto'\n",
    "\n",
    "# Add the my_str variable in the last position of to my_list\n",
    "my_list.append(my_str)\n",
    "\n",
    "# Display the list\n",
    "print(my_list)\n",
    "\n",
    "# Define a list new_list with 1 and 4\n",
    "new_list = [1, 4]\n",
    "\n",
    "# Add the new_list variable in the last position of to my_list\n",
    "my_list.append(new_list)\n",
    "\n",
    "# Assign the second value of my_list in the variable my_variable_2\n",
    "my_variable_2 = my_list[1]\n",
    "\n",
    "# Display the variable my_variable_2\n",
    "print(my_variable_2)\n",
    "\n",
    "# Assign the last value of my_list in the variable my_last_variable\n",
    "my_last_variable = my_list[-1]\n",
    "\n",
    "# Display the variable my_last_variable\n",
    "print(my_last_variable)"
   ]
  },
  {
   "cell_type": "markdown",
   "id": "509c92b7",
   "metadata": {},
   "source": [
    "# Exercise 3: "
   ]
  },
  {
   "cell_type": "markdown",
   "id": "c8882f35",
   "metadata": {},
   "source": [
    "\n",
    "Equilateral triangle - isosceles - condition IF ELSE ELIF AND OR\n",
    "\n",
    "- Write a program in Python which asks the user for the lengths of the sides of a triangle (these lengths being integers) and which indicates whether this triangle is equilateral or not.\n",
    "\n",
    "- Modify your program to indicate whether the triangle is isosceles or not.\n",
    "\n",
    "- Modify your program to indicate if the triangle is equilateral and if not if it is isosceles or not."
   ]
  },
  {
   "cell_type": "code",
   "execution_count": 16,
   "id": "18f762d9",
   "metadata": {},
   "outputs": [
    {
     "name": "stdout",
     "output_type": "stream",
     "text": [
      "Enter the length of the first side: 3\n",
      "Enter the length of the second side: 3\n",
      "Enter the length of the third side: 3\n",
      "This is an equilateral triangle.\n"
     ]
    }
   ],
   "source": [
    "a = int(input(\"Enter the length of the first side: \"))\n",
    "b = int(input(\"Enter the length of the second side: \"))\n",
    "c = int(input(\"Enter the length of the third side: \"))\n",
    "\n",
    "if a == b == c:\n",
    "    print(\"This is an equilateral triangle.\")\n",
    "else:\n",
    "    print(\"This is not an equilateral triangle.\")"
   ]
  },
  {
   "cell_type": "code",
   "execution_count": 19,
   "id": "00f63214",
   "metadata": {},
   "outputs": [
    {
     "name": "stdout",
     "output_type": "stream",
     "text": [
      "Enter the length of side a: 2\n",
      "Enter the length of side b: 1\n",
      "Enter the length of side c: 2\n",
      "This is an isosceles triangle\n"
     ]
    }
   ],
   "source": [
    "a = int(input(\"Enter the length of side a: \"))\n",
    "b = int(input(\"Enter the length of side b: \"))\n",
    "c = int(input(\"Enter the length of side c: \"))\n",
    "\n",
    "if a == b and b == c:\n",
    "    print(\"This is an equilateral triangle\")\n",
    "elif a == b or b == c or c == a:\n",
    "    print(\"This is an isosceles triangle\")\n",
    "else:\n",
    "    print(\"This is not an equilateral or isosceles triangle\")"
   ]
  },
  {
   "cell_type": "code",
   "execution_count": 18,
   "id": "0ddc0f15",
   "metadata": {},
   "outputs": [
    {
     "name": "stdout",
     "output_type": "stream",
     "text": [
      "Enter the length of side a: 3\n",
      "Enter the length of side b: 3\n",
      "Enter the length of side c: 3\n",
      "This is an equilateral triangle\n"
     ]
    }
   ],
   "source": [
    "a = int(input(\"Enter the length of side a: \"))\n",
    "b = int(input(\"Enter the length of side b: \"))\n",
    "c = int(input(\"Enter the length of side c: \"))\n",
    "\n",
    "if a == b and b == c:\n",
    "    print(\"This is an equilateral triangle\")\n",
    "elif a == b or b == c or c == a:\n",
    "    print(\"This is an isosceles triangle\")\n",
    "else:\n",
    "    print(\"This is neither an equilateral nor isosceles triangle\")"
   ]
  },
  {
   "cell_type": "code",
   "execution_count": null,
   "id": "87eb55d9",
   "metadata": {},
   "outputs": [],
   "source": []
  }
 ],
 "metadata": {
  "kernelspec": {
   "display_name": "Python 3 (ipykernel)",
   "language": "python",
   "name": "python3"
  },
  "language_info": {
   "codemirror_mode": {
    "name": "ipython",
    "version": 3
   },
   "file_extension": ".py",
   "mimetype": "text/x-python",
   "name": "python",
   "nbconvert_exporter": "python",
   "pygments_lexer": "ipython3",
   "version": "3.9.7"
  }
 },
 "nbformat": 4,
 "nbformat_minor": 5
}
